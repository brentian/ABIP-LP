{
 "cells": [
  {
   "cell_type": "code",
   "execution_count": 1,
   "id": "2f0d4cb6-7b57-420b-971c-ffa96b48aa65",
   "metadata": {},
   "outputs": [],
   "source": [
    "import pandas as pd\n",
    "import numpy as np\n",
    "import plotly.graph_objects as go\n",
    "import plotly"
   ]
  },
  {
   "cell_type": "code",
   "execution_count": 2,
   "id": "5877fb66-65f9-4db3-8a67-2ddbdfe8ca5d",
   "metadata": {},
   "outputs": [
    {
     "name": "stdout",
     "output_type": "stream",
     "text": [
      "/home/chuwen/workspace/abip-lp\n"
     ]
    }
   ],
   "source": [
    "cd .."
   ]
  },
  {
   "cell_type": "code",
   "execution_count": 3,
   "id": "19ed0523-714e-490d-9c8d-3b7ebba4fa99",
   "metadata": {
    "scrolled": true,
    "tags": []
   },
   "outputs": [
    {
     "name": "stderr",
     "output_type": "stream",
     "text": [
      "2023-07-08 15:31:21,296 INFO @analyze registered methods [{'name': 'google_pdhg_1e-4', 'solution_dir': 'pdhg_cpp_1e-4-cross', 'affix': '.json'}, {'name': 'google_pdhg_1e-6', 'solution_dir': 'pdhg_cpp_1e-6-cross', 'affix': '.json'}, {'name': 'google_pdhg_1e-8', 'solution_dir': 'pdhg_cpp_1e-8-cross', 'affix': '.json'}, {'name': 'abip_direct_1e-6', 'solution_dir': 'abip_0_1e-6-cross', 'affix': '.json'}, {'name': 'abip_direct_1e-4', 'solution_dir': 'abip_0_1e-4-cross', 'affix': '.json'}]\n",
      "2023-07-08 15:31:21,297 DEBUG @analyze try {'name': 'google_pdhg_1e-4', 'solution_dir': 'pdhg_cpp_1e-4-cross', 'affix': '.json'}\n",
      "2023-07-08 15:31:21,298 DEBUG @analyze analyze {'name': 'google_pdhg_1e-4', 'solution_dir': 'pdhg_cpp_1e-4-cross', 'affix': '.json'} @ lp-test-results/mipcol17/pdhg_cpp_1e-4-cross\n",
      "2023-07-08 15:31:21,307 INFO @analyze google_pdhg_1e-4 solution finished\n",
      "2023-07-08 15:31:21,308 DEBUG @analyze try {'name': 'google_pdhg_1e-6', 'solution_dir': 'pdhg_cpp_1e-6-cross', 'affix': '.json'}\n",
      "2023-07-08 15:31:21,309 DEBUG @analyze analyze {'name': 'google_pdhg_1e-6', 'solution_dir': 'pdhg_cpp_1e-6-cross', 'affix': '.json'} @ lp-test-results/mipcol17/pdhg_cpp_1e-6-cross\n",
      "2023-07-08 15:31:21,317 INFO @analyze google_pdhg_1e-6 solution finished\n",
      "2023-07-08 15:31:21,318 DEBUG @analyze try {'name': 'google_pdhg_1e-8', 'solution_dir': 'pdhg_cpp_1e-8-cross', 'affix': '.json'}\n",
      "2023-07-08 15:31:21,319 DEBUG @analyze method {'name': 'google_pdhg_1e-8', 'solution_dir': 'pdhg_cpp_1e-8-cross', 'affix': '.json'} does not exist\n",
      "2023-07-08 15:31:21,320 DEBUG @analyze try {'name': 'abip_direct_1e-6', 'solution_dir': 'abip_0_1e-6-cross', 'affix': '.json'}\n",
      "2023-07-08 15:31:21,320 DEBUG @analyze analyze {'name': 'abip_direct_1e-6', 'solution_dir': 'abip_0_1e-6-cross', 'affix': '.json'} @ lp-test-results/mipcol17/abip_0_1e-6-cross\n",
      "2023-07-08 15:31:21,328 INFO @analyze abip_direct_1e-6 solution finished\n",
      "2023-07-08 15:31:21,329 DEBUG @analyze try {'name': 'abip_direct_1e-4', 'solution_dir': 'abip_0_1e-4-cross', 'affix': '.json'}\n",
      "2023-07-08 15:31:21,330 DEBUG @analyze analyze {'name': 'abip_direct_1e-4', 'solution_dir': 'abip_0_1e-4-cross', 'affix': '.json'} @ lp-test-results/mipcol17/abip_0_1e-4-cross\n",
      "2023-07-08 15:31:21,338 INFO @analyze abip_direct_1e-4 solution finished\n",
      "2023-07-08 15:31:21,539 INFO @analyze analyze finished to with stamp 1688801481\n"
     ]
    },
    {
     "name": "stdout",
     "output_type": "stream",
     "text": [
      "\n",
      "\\documentclass{article}\n",
      "\\usepackage{lscape,longtable,multirow}\n",
      "\\usepackage{booktabs,caption}\n",
      "\\begin{document}\n",
      "    \n",
      "\\begin{longtable}{lrrr}\n",
      "\\caption{Number of solved instances}\\\\\n",
      "\\toprule\n",
      "{} &  status &    iteration &      time \\\\\n",
      "method           &         &              &           \\\\\n",
      "\\midrule\n",
      "\\endfirsthead\n",
      "\\caption[]{Number of solved instances} \\\\\n",
      "\\toprule\n",
      "{} &  status &    iteration &      time \\\\\n",
      "method           &         &              &           \\\\\n",
      "\\midrule\n",
      "\\endhead\n",
      "\\midrule\n",
      "\\multicolumn{4}{r}{{Continued on next page}} \\\\\n",
      "\\midrule\n",
      "\\endfoot\n",
      "\n",
      "\\bottomrule\n",
      "\\endlastfoot\n",
      "abip\\_direct\\_1e-4 &     213 &  1014.492515 &  0.825972 \\\\\n",
      "abip\\_direct\\_1e-6 &     196 &   575.266268 &  0.453987 \\\\\n",
      "google\\_pdhg\\_1e-4 &     232 &   956.724678 &  0.947923 \\\\\n",
      "google\\_pdhg\\_1e-6 &     234 &   721.517272 &  0.653200 \\\\\n",
      "\\end{longtable}\n",
      "\n",
      "    \n",
      "\\end{document}\n",
      "    \n"
     ]
    },
    {
     "name": "stderr",
     "output_type": "stream",
     "text": [
      "/home/chuwen/workspace/abip-lp/bench-lp/analyze_crs.py:154: FutureWarning: In future versions `DataFrame.to_latex` is expected to utilise the base implementation of `Styler.to_latex` for formatting and rendering. The arguments signature may therefore change. It is recommended instead to use `DataFrame.style.to_latex` which also contains additional functionality.\n",
      "  {df_sum.to_latex(multirow=True,longtable=True, multicolumn=True, caption='Number of solved instances')}\n"
     ]
    }
   ],
   "source": [
    "# %run -i bench-lp/analyze.crs.py --conf bench-lp/conf/netlib.crs.analyze.json \n",
    "%run -i bench-lp/analyze_crs.py --conf bench-lp/conf/mip17.crs.json "
   ]
  },
  {
   "cell_type": "code",
   "execution_count": 4,
   "id": "3b55d28a-ad09-469a-989f-8a6f3d47f166",
   "metadata": {
    "scrolled": true,
    "tags": []
   },
   "outputs": [],
   "source": [
    "METHOD_RENAME={\n",
    "    \"abip_direct_1e-4\": r\"$\\text{abip}, 10^{-4}$\",\n",
    "    \"abip_direct_1e-6\": r\"$\\text{abip}, 10^{-6}$\",\n",
    "    \"google_pdhg_1e-4\": r\"$\\text{pdlp}, 10^{-4}$\",\n",
    "    \"google_pdhg_1e-6\": r\"$\\text{pdlp}, 10^{-6}$\"\n",
    "}\n",
    "# df_plot_all = df_agg_suc[\n",
    "#  df_agg_suc['method'].apply(lambda x: x.endswith(\"6\"))\n",
    "# ]\n",
    "# data_support = pd.read_csv(\"./bench-lp/mip17bench.csv\").rename(\n",
    "#     columns={'Instance  Ins.': 'real_name'}\n",
    "# ).set_index('real_name')\n",
    "# df_plot_all = df_plot_all.join(data_support, on='real_name', how='left')\n",
    "# df_plot = df_plot_all[df_plot_all[\"Variables  Var.\"] > 0]\n",
    "if False:\n",
    "    pass\n",
    "else:\n",
    "    df_plot_all = df_agg_suc.assign(\n",
    "        group=lambda df: df['method'].apply(lambda x: x[-1])\n",
    "    ).assign(\n",
    "        method=lambda df: df['method'].apply(lambda x: METHOD_RENAME.get(x, x))\n",
    "    ).set_index(\n",
    "        [\"method\", \"real_name\", \"group\"]\n",
    "    )"
   ]
  },
  {
   "cell_type": "code",
   "execution_count": 5,
   "id": "6bd63ade-adb6-48be-8820-5a2da554716c",
   "metadata": {},
   "outputs": [],
   "source": [
    "df_min = df_plot_all.groupby([\"real_name\", \"group\"]).agg(\n",
    "    {\"iteration\": min, \"time\": min, \"bool_fail\": 'count'}\n",
    ")"
   ]
  },
  {
   "cell_type": "code",
   "execution_count": 6,
   "id": "f573db8e-ecb4-4e8a-b8e9-fb39ae5d76fe",
   "metadata": {},
   "outputs": [],
   "source": [
    "df_plot = df_plot_all.join(\n",
    "    df_min, on=['real_name', 'group'], \n",
    "    lsuffix= '', rsuffix= '-', how='left'\n",
    ").assign(\n",
    "    alphat=lambda df: df['time']/df['time-'],    \n",
    "    alphai=lambda df: df['iteration']/(df['iteration-'] + 1),\n",
    "    bettert=lambda df: df['alphat'].apply(lambda x: x <= 1),\n",
    "    betteri=lambda df: df['alphai'].apply(lambda x: x <= 1)\n",
    ").sort_index(\n",
    "    level=['real_name', 'group']\n",
    ").reset_index(level=2)\n",
    "# both succeeded\n",
    "df_plot = df_plot[df_plot['bool_fail-'] == 2] "
   ]
  },
  {
   "cell_type": "code",
   "execution_count": 7,
   "id": "b44daa62-c78f-41b7-ab25-1b7c6e7d46c4",
   "metadata": {},
   "outputs": [
    {
     "data": {
      "text/plain": [
       "method\n",
       "$\\text{abip}, 10^{-4}$    212\n",
       "$\\text{pdlp}, 10^{-4}$    212\n",
       "Name: name, dtype: int64"
      ]
     },
     "execution_count": 7,
     "metadata": {},
     "output_type": "execute_result"
    }
   ],
   "source": [
    "df_plot.query('group == \"4\"').groupby('method').name.count()"
   ]
  },
  {
   "cell_type": "code",
   "execution_count": 8,
   "id": "55640c3d-bed5-419a-b771-a941f2dc6479",
   "metadata": {},
   "outputs": [
    {
     "data": {
      "text/plain": [
       "method\n",
       "$\\text{abip}, 10^{-4}$     72\n",
       "$\\text{abip}, 10^{-6}$     71\n",
       "$\\text{pdlp}, 10^{-4}$    140\n",
       "$\\text{pdlp}, 10^{-6}$    125\n",
       "Name: bettert, dtype: int64"
      ]
     },
     "execution_count": 8,
     "metadata": {},
     "output_type": "execute_result"
    }
   ],
   "source": [
    "df_plot.groupby(\"method\")['bettert'].sum()"
   ]
  },
  {
   "cell_type": "code",
   "execution_count": 13,
   "id": "6956c906-414c-4ff8-afa5-fd5764fd0bf2",
   "metadata": {},
   "outputs": [
    {
     "data": {
      "application/vnd.plotly.v1+json": {
       "config": {
        "plotlyServerURL": "https://plot.ly"
       },
       "data": [
        {
         "cumulative": {
          "enabled": true
         },
         "histnorm": "probability",
         "name": "$\\text{abip}, 10^{-4}$",
         "opacity": 0.45,
         "type": "histogram",
         "x": [
          1,
          1,
          4.424755717366955,
          1.510610638811093,
          2.2466735003163425,
          1,
          2.016822285042395,
          10.607023037351823,
          3.0315085589263977,
          1,
          1,
          1.4123784261715295,
          5.629933550372385,
          1,
          1.4861924184261037,
          1.779978627911947,
          2.6237563898202607,
          1,
          1.1453859588731439,
          8.524547346462098,
          1.5570259229640875,
          1.203954437327599,
          1.333727170769861,
          1.6751166383359082,
          1.1019853799697434,
          1,
          1.4154763426442483,
          1.288538618975014,
          1,
          1.2087508029775127,
          1.1569532392331396,
          1,
          1.2594695565801373,
          1.3945305029642379,
          3.93969501572236,
          4.220360537189092,
          1,
          1,
          1,
          1.2475896111085483,
          1,
          1,
          5.0266691885757515,
          1.3649438912596807,
          5.6168738476179145,
          3.625081845562879,
          2.458719396726633,
          1.5509990531806863,
          7.541883621083402,
          2.792458049050341,
          1,
          1.8030147290386282,
          1.374709733282605,
          1.3435771358328212,
          1.5043319320051178,
          1.3220654685937014,
          1.1735586297464167,
          3.0467440834925767,
          1,
          1.1653025711260376,
          8.686626482430928,
          1.3314894680917557,
          1.306741451839068,
          1,
          1,
          1.1434463992346389,
          2.767349004196822,
          1,
          1,
          1,
          1,
          8.17359901979751,
          1.0581684228561639,
          6.991327751196172,
          1,
          5.747874501542397,
          1,
          3.6039967739044716,
          1,
          1.1591554984122985,
          1.2669876950297572,
          1,
          1,
          1,
          1.6273567661432096,
          1,
          1.7640594314732896,
          2.0650936746517954,
          1.0323142140055113,
          1,
          1.406879688631597,
          3.2349643939928083,
          1.8631872393520756,
          1.1424202155708831,
          1.6225727005778157,
          2.0253230923566288,
          1,
          1.103900010528374,
          1.1962960990656273,
          4.396817857990976,
          1.6868015623304764,
          6.686487315946962,
          1.8944170303005587,
          1.1103550083901168,
          1,
          1.096534304345962,
          4.390873941737217,
          1.3195048647547247,
          2.030740278926476,
          1.0228293568295008,
          2.2153414629294397,
          1.8982693778186983,
          1,
          1.039647769213793,
          1,
          10.174563735120767,
          1,
          2.618187524911263,
          1.0462006768637386,
          1.0337327778052656,
          1.779428707344448,
          8.650279211101385,
          1,
          1,
          1.2010211343055068,
          6.3489346553269534,
          3.8904935325882204,
          1.288068925883007,
          1,
          1.4600540776904758,
          1,
          1,
          1,
          1.2914058977716907,
          1.0966132048744786,
          5.334636401849517,
          7.7072696758236905,
          2.494558097349592,
          13.781300076639031,
          1,
          1,
          1.973414149497079,
          1.021074685057271,
          13.85095500916268,
          1.696114774045672,
          1,
          3.074270849408082,
          15.124697351567987,
          1,
          1,
          1.9616521686857995,
          4.443193775708683,
          1,
          3.738546138091631,
          4.344208761142656,
          1,
          1,
          1,
          1,
          8.375,
          1,
          3.4340473304659036,
          1,
          1,
          1.6983825591624495,
          1.2644639693575592,
          4.970548439357411,
          4.95488576384123,
          1.4527267904433694,
          1,
          5.975241031022496,
          1.4864479426433914,
          1,
          1,
          1.8798433918169675,
          1.1889575208731384,
          1,
          1.8535628636760797,
          1.3225191722402612,
          1,
          1,
          1.1052665289203507,
          1,
          6.425641655409554,
          1.0894980906652922,
          1.2155358968871133,
          8.116683547976013,
          1.7871237333492895,
          1,
          1,
          1.2869349630161995,
          1.9206721063749963,
          1.4260810134380655,
          1,
          1.0779431650281668,
          5.000286759676989,
          1,
          1,
          1,
          1,
          7.8449969306322895,
          4.759037982407078,
          2.7736838048254064,
          7.4410629857072985,
          14.98958249301466,
          1,
          1,
          1.7343330082271453,
          5.880421751560051,
          1.2307857047522806,
          1,
          1.6830715267093408
         ],
         "xbins": {
          "end": 10,
          "size": 0.04,
          "start": 0
         }
        },
        {
         "cumulative": {
          "enabled": true
         },
         "histnorm": "probability",
         "name": "$\\text{pdlp}, 10^{-4}$",
         "opacity": 0.45,
         "type": "histogram",
         "x": [
          2.968350461239683,
          1.496812545819654,
          1,
          1,
          1,
          2.1867083714900755,
          1,
          1,
          1,
          2.322837234472387,
          2.6270273766278054,
          1,
          1,
          1.8103570010149597,
          1,
          1,
          1,
          2.092593430458782,
          1,
          1,
          1,
          1,
          1,
          1,
          1,
          1.2308813737876394,
          1,
          1,
          1.8268297519281145,
          1,
          1,
          1.4167659749332238,
          1,
          1,
          1,
          1,
          1.1845107732098534,
          1.132140956055049,
          1.1434719306824748,
          1,
          1.2316315370849076,
          1.0441522971127553,
          1,
          1,
          1,
          1,
          1,
          1,
          1,
          1,
          2.1813645443052163,
          1,
          1,
          1,
          1,
          1,
          1,
          1,
          1.7594062431162998,
          1,
          1,
          1,
          1,
          3.603456799384627,
          1.682278653833026,
          1,
          1,
          1.5167380061941214,
          1.0320387505973327,
          1.2175330101955542,
          2.21507480208302,
          1,
          1,
          1,
          1.2964949877029728,
          1,
          4.414974771026138,
          1,
          1.028057289753948,
          1,
          1,
          1.0367564214765785,
          1.305719939713142,
          2.461684928597309,
          1,
          1.2788248850978159,
          1,
          1,
          1,
          1.2320149943954772,
          1,
          1,
          1,
          1,
          1,
          1,
          1.1304566160909646,
          1,
          1,
          1,
          1,
          1,
          1,
          1,
          2.7024644137466063,
          1,
          1,
          1,
          1,
          1,
          1,
          1,
          1.4060444344135976,
          1,
          1.5205569412014435,
          1,
          1.004093027373146,
          1,
          1,
          1,
          1,
          1,
          1.2049478244210103,
          1.0640692064126287,
          1,
          1,
          1,
          1,
          3.1308532216995384,
          1,
          1.0525838200051187,
          1.1731694398194192,
          1.1317424619448697,
          1,
          1,
          1,
          1,
          1,
          1,
          1.9430824224213852,
          1.6478313416533636,
          1,
          1,
          1,
          1,
          1.02373447414557,
          1,
          1,
          1.0026088288163464,
          1.3893970552130657,
          1,
          1,
          1.0406364938562658,
          1,
          1,
          1.9815496728130109,
          5.251720445953154,
          1.1760292654533642,
          1.0435133115734005,
          1,
          2.147171991468773,
          1,
          1.8016754652036169,
          1.196311458648045,
          1,
          1,
          1,
          1,
          1,
          1.4729519533446334,
          1,
          1,
          3.285741098241098,
          1.232498321528454,
          1,
          1,
          3.2200751690145193,
          1,
          1,
          8.873317475579665,
          5.844597269411802,
          1,
          1.5868543382845777,
          1,
          1,
          1,
          1,
          1,
          7.19131290342568,
          28.849179716217392,
          1,
          1,
          1,
          1.0422470876259016,
          1,
          1,
          1.0104254128183598,
          1.0019053945390344,
          1.2837805588583568,
          1.029047220798634,
          1,
          1,
          1,
          1,
          1,
          1.5652960528860298,
          1.1744780489320228,
          1,
          1,
          1,
          1.0829985784842218,
          1
         ],
         "xbins": {
          "end": 10,
          "size": 0.04,
          "start": 0
         }
        },
        {
         "cumulative": {
          "enabled": true
         },
         "histnorm": "probability",
         "name": "$\\text{abip}, 10^{-6}$",
         "opacity": 0.45,
         "type": "histogram",
         "x": [
          1,
          6.859573551583028,
          3.966187468545079,
          1.3140146703351998,
          1,
          1,
          4.956462101198944,
          1,
          1.2495828240837923,
          1.079405594179884,
          1,
          4.4410434636965075,
          1,
          1,
          1.8629958865236627,
          2.097171069885178,
          1.152254720788462,
          1.282132793266631,
          1.4437003752493762,
          1.1745425846822541,
          1.0042909575333998,
          1,
          1.1060919073495574,
          1.5889038146471905,
          1.195816664438434,
          1,
          1.4535665473040993,
          1.2178438480476652,
          4.325406667152965,
          2.427303878776824,
          1.0819544170782782,
          1,
          1,
          1.7134679701569333,
          1.124795496346879,
          1,
          1,
          6.283557233263018,
          1.3615570068359375,
          5.5257452574525745,
          5.788580444330732,
          1.3144853583413783,
          1.123941789122738,
          5.140791152700978,
          1.2356570586610185,
          1,
          1.2976078698979376,
          1,
          7.2085135205543684,
          6.351187841227682,
          1.4652035478735501,
          1.5562174006975094,
          1.3683687473380342,
          1,
          1.1427579129583973,
          2.2303478672012416,
          4.219998774209365,
          1.2912354532571821,
          1,
          1.2571147555982525,
          1,
          3.3860796037405407,
          1,
          1,
          1,
          1,
          9.267279877357861,
          1.316643269380752,
          1.75571828948558,
          1,
          1,
          1,
          1,
          7.606217616580311,
          1,
          1.4587919274341719,
          1,
          1.4121047227926078,
          1,
          2.5930177535533394,
          1.0274957061023429,
          1.3119095384164046,
          1.08274170132742,
          1.3184506493188142,
          1,
          1,
          1,
          1.1734155857850892,
          1,
          1.0417552108325638,
          1.2708345837884991,
          3.872160704145372,
          1,
          3.0513770395648927,
          1.091486620708645,
          1.1595722925850545,
          1,
          1.0275833635983993,
          5.083685481436764,
          1.4721099698860514,
          1.207842841603033,
          1.7370349356971992,
          1.0198852414184283,
          2.888981381844761,
          2.557356432063637,
          1,
          1,
          2.414123432950654,
          5.364611569294654,
          1.0429552291650896,
          1,
          1.0364366134654992,
          1.871536931686786,
          1.4127447749838042,
          1,
          1.056773743239324,
          1.2032610677983748,
          1.139168826699076,
          3.4443324040571803,
          2.1140477340211645,
          1,
          1,
          1,
          1,
          6.708739366662085,
          1.0795522585196895,
          7.356836720586202,
          10.177227888312991,
          1,
          8.625265844321566,
          1,
          158.82594671390584,
          1,
          2.3594032593332974,
          1.1042504938181286,
          2.2774176785909637,
          1.04769933028346,
          2.9594066973784785,
          16.11455347903039,
          1,
          1.2035227822551084,
          3.7023844665289123,
          1.0949987694459917,
          1.2890938050129936,
          1,
          1.1102274407408728,
          1,
          1,
          1,
          14.996724702637476,
          1,
          1,
          1,
          1,
          1,
          1.215535149781725,
          1.516913436477569,
          1,
          1.123156904616636,
          1.1758856240824962,
          1,
          1,
          1.3585525093991557,
          1.1212483650530527,
          1.3705474146464278,
          1,
          1,
          1,
          1,
          1,
          1,
          6.277530768735099,
          1,
          1,
          6.763571276102749,
          1.4617098560650001,
          1.1906152510965684,
          2.084637171383128,
          4.95480724570367,
          1,
          1,
          2.5884922696260455,
          1.0312053999269162,
          1.030315972020008,
          1.178644336398119,
          14.172735217011361,
          6.293640124095139,
          5.130535561790899,
          5.487011679420056,
          48.569625774740835,
          1.1908214668434847,
          1.0066590500261439,
          3.1009186161024203,
          1,
          1.137915624870495,
          1
         ],
         "xbins": {
          "end": 10,
          "size": 0.04,
          "start": 0
         }
        },
        {
         "cumulative": {
          "enabled": true
         },
         "histnorm": "probability",
         "name": "$\\text{pdlp}, 10^{-6}$",
         "opacity": 0.45,
         "type": "histogram",
         "x": [
          1.1122407245106631,
          1,
          1,
          1,
          2.332323601608607,
          2.25374582432698,
          1,
          2.803749363590079,
          1,
          1,
          1.0255832511852792,
          1,
          1.7356448588257045,
          1.010036039438146,
          1,
          1,
          1,
          1,
          1,
          1,
          1,
          1.3086562649505378,
          1,
          1,
          1,
          1.1543523846148265,
          1,
          1,
          1,
          1,
          1,
          1.0759489040414387,
          1.042519830066088,
          1,
          1,
          2.987587276958883,
          1.0029758420993564,
          1,
          1,
          1,
          1,
          1,
          1,
          1,
          1,
          3.94990784382449,
          1,
          1.5404487056567593,
          1,
          1,
          1,
          1,
          1,
          1.7497463805157323,
          1,
          1,
          1,
          1,
          1.089582095574739,
          1,
          1.000486900069557,
          1,
          1.4301480528364579,
          1.9482478424926215,
          1.0796874401501513,
          1.1499688164649065,
          1,
          1,
          1,
          5.020875083500334,
          1.2720169148740577,
          1.5858922886742295,
          2.6006446921005564,
          1,
          1.8014656610444975,
          1,
          1.8739237431414746,
          1,
          1.409859333656056,
          1,
          1,
          1,
          1,
          1,
          3.3166670735577743,
          1.0144919970347788,
          1.0684404209906528,
          1,
          1.3842991587720257,
          1,
          1,
          1,
          1.4569794893489267,
          1,
          1,
          1,
          1.8998390162029941,
          1,
          1,
          1,
          1,
          1,
          1,
          1,
          1,
          1.1786201541683337,
          1.0187306439972952,
          1,
          1,
          1,
          1.08370814859851,
          1,
          1,
          1,
          1.052506244735979,
          1,
          1,
          1,
          1,
          1,
          3.446397954142571,
          1.2369681761149767,
          1.0993298845793422,
          1.41036740762687,
          1,
          1,
          1,
          1,
          1.1766472490105357,
          1,
          1.0828080649555374,
          1,
          1.031232329024602,
          1,
          1,
          1,
          1,
          1,
          1,
          1.1536754534276052,
          1,
          1,
          1,
          1,
          1.114081409906584,
          1,
          1.2286996166170334,
          1.3906798345748914,
          1.0779234640240356,
          1,
          4.78146314667434,
          1.5929204595616746,
          1.8195950048842304,
          1.041577176197641,
          1.05560052116235,
          1,
          1,
          1.062992894380339,
          1,
          1,
          1.1711571070976772,
          2.8214890393869188,
          1,
          1,
          1,
          1.1276524615547032,
          1.0416093893193368,
          1.6551701447640534,
          1.2383311057565605,
          1.8751027977547314,
          1.7690368428673797,
          1,
          1.1465584006745575,
          1.5135777946959592,
          1,
          1,
          1,
          1,
          1,
          1.0692764371863328,
          1.069947253916827,
          1,
          1,
          1,
          1,
          1,
          1,
          1,
          1,
          1,
          1,
          1,
          1,
          1.0353407398951493,
          1,
          2.076896154803385
         ],
         "xbins": {
          "end": 10,
          "size": 0.04,
          "start": 0
         }
        }
       ],
       "layout": {
        "barmode": "overlay",
        "font": {
         "family": "Latin Modern Roman"
        },
        "height": 800,
        "legend": {
         "font": {
          "family": "Latin Modern Roman"
         },
         "x": 0.01,
         "xanchor": "left",
         "y": 0.99,
         "yanchor": "top"
        },
        "template": {
         "data": {
          "bar": [
           {
            "error_x": {
             "color": "#2a3f5f"
            },
            "error_y": {
             "color": "#2a3f5f"
            },
            "marker": {
             "line": {
              "color": "white",
              "width": 0.5
             },
             "pattern": {
              "fillmode": "overlay",
              "size": 10,
              "solidity": 0.2
             }
            },
            "type": "bar"
           }
          ],
          "barpolar": [
           {
            "marker": {
             "line": {
              "color": "white",
              "width": 0.5
             },
             "pattern": {
              "fillmode": "overlay",
              "size": 10,
              "solidity": 0.2
             }
            },
            "type": "barpolar"
           }
          ],
          "carpet": [
           {
            "aaxis": {
             "endlinecolor": "#2a3f5f",
             "gridcolor": "#C8D4E3",
             "linecolor": "#C8D4E3",
             "minorgridcolor": "#C8D4E3",
             "startlinecolor": "#2a3f5f"
            },
            "baxis": {
             "endlinecolor": "#2a3f5f",
             "gridcolor": "#C8D4E3",
             "linecolor": "#C8D4E3",
             "minorgridcolor": "#C8D4E3",
             "startlinecolor": "#2a3f5f"
            },
            "type": "carpet"
           }
          ],
          "choropleth": [
           {
            "colorbar": {
             "outlinewidth": 0,
             "ticks": ""
            },
            "type": "choropleth"
           }
          ],
          "contour": [
           {
            "colorbar": {
             "outlinewidth": 0,
             "ticks": ""
            },
            "colorscale": [
             [
              0,
              "#0d0887"
             ],
             [
              0.1111111111111111,
              "#46039f"
             ],
             [
              0.2222222222222222,
              "#7201a8"
             ],
             [
              0.3333333333333333,
              "#9c179e"
             ],
             [
              0.4444444444444444,
              "#bd3786"
             ],
             [
              0.5555555555555556,
              "#d8576b"
             ],
             [
              0.6666666666666666,
              "#ed7953"
             ],
             [
              0.7777777777777778,
              "#fb9f3a"
             ],
             [
              0.8888888888888888,
              "#fdca26"
             ],
             [
              1,
              "#f0f921"
             ]
            ],
            "type": "contour"
           }
          ],
          "contourcarpet": [
           {
            "colorbar": {
             "outlinewidth": 0,
             "ticks": ""
            },
            "type": "contourcarpet"
           }
          ],
          "heatmap": [
           {
            "colorbar": {
             "outlinewidth": 0,
             "ticks": ""
            },
            "colorscale": [
             [
              0,
              "#0d0887"
             ],
             [
              0.1111111111111111,
              "#46039f"
             ],
             [
              0.2222222222222222,
              "#7201a8"
             ],
             [
              0.3333333333333333,
              "#9c179e"
             ],
             [
              0.4444444444444444,
              "#bd3786"
             ],
             [
              0.5555555555555556,
              "#d8576b"
             ],
             [
              0.6666666666666666,
              "#ed7953"
             ],
             [
              0.7777777777777778,
              "#fb9f3a"
             ],
             [
              0.8888888888888888,
              "#fdca26"
             ],
             [
              1,
              "#f0f921"
             ]
            ],
            "type": "heatmap"
           }
          ],
          "heatmapgl": [
           {
            "colorbar": {
             "outlinewidth": 0,
             "ticks": ""
            },
            "colorscale": [
             [
              0,
              "#0d0887"
             ],
             [
              0.1111111111111111,
              "#46039f"
             ],
             [
              0.2222222222222222,
              "#7201a8"
             ],
             [
              0.3333333333333333,
              "#9c179e"
             ],
             [
              0.4444444444444444,
              "#bd3786"
             ],
             [
              0.5555555555555556,
              "#d8576b"
             ],
             [
              0.6666666666666666,
              "#ed7953"
             ],
             [
              0.7777777777777778,
              "#fb9f3a"
             ],
             [
              0.8888888888888888,
              "#fdca26"
             ],
             [
              1,
              "#f0f921"
             ]
            ],
            "type": "heatmapgl"
           }
          ],
          "histogram": [
           {
            "marker": {
             "pattern": {
              "fillmode": "overlay",
              "size": 10,
              "solidity": 0.2
             }
            },
            "type": "histogram"
           }
          ],
          "histogram2d": [
           {
            "colorbar": {
             "outlinewidth": 0,
             "ticks": ""
            },
            "colorscale": [
             [
              0,
              "#0d0887"
             ],
             [
              0.1111111111111111,
              "#46039f"
             ],
             [
              0.2222222222222222,
              "#7201a8"
             ],
             [
              0.3333333333333333,
              "#9c179e"
             ],
             [
              0.4444444444444444,
              "#bd3786"
             ],
             [
              0.5555555555555556,
              "#d8576b"
             ],
             [
              0.6666666666666666,
              "#ed7953"
             ],
             [
              0.7777777777777778,
              "#fb9f3a"
             ],
             [
              0.8888888888888888,
              "#fdca26"
             ],
             [
              1,
              "#f0f921"
             ]
            ],
            "type": "histogram2d"
           }
          ],
          "histogram2dcontour": [
           {
            "colorbar": {
             "outlinewidth": 0,
             "ticks": ""
            },
            "colorscale": [
             [
              0,
              "#0d0887"
             ],
             [
              0.1111111111111111,
              "#46039f"
             ],
             [
              0.2222222222222222,
              "#7201a8"
             ],
             [
              0.3333333333333333,
              "#9c179e"
             ],
             [
              0.4444444444444444,
              "#bd3786"
             ],
             [
              0.5555555555555556,
              "#d8576b"
             ],
             [
              0.6666666666666666,
              "#ed7953"
             ],
             [
              0.7777777777777778,
              "#fb9f3a"
             ],
             [
              0.8888888888888888,
              "#fdca26"
             ],
             [
              1,
              "#f0f921"
             ]
            ],
            "type": "histogram2dcontour"
           }
          ],
          "mesh3d": [
           {
            "colorbar": {
             "outlinewidth": 0,
             "ticks": ""
            },
            "type": "mesh3d"
           }
          ],
          "parcoords": [
           {
            "line": {
             "colorbar": {
              "outlinewidth": 0,
              "ticks": ""
             }
            },
            "type": "parcoords"
           }
          ],
          "pie": [
           {
            "automargin": true,
            "type": "pie"
           }
          ],
          "scatter": [
           {
            "marker": {
             "colorbar": {
              "outlinewidth": 0,
              "ticks": ""
             }
            },
            "type": "scatter"
           }
          ],
          "scatter3d": [
           {
            "line": {
             "colorbar": {
              "outlinewidth": 0,
              "ticks": ""
             }
            },
            "marker": {
             "colorbar": {
              "outlinewidth": 0,
              "ticks": ""
             }
            },
            "type": "scatter3d"
           }
          ],
          "scattercarpet": [
           {
            "marker": {
             "colorbar": {
              "outlinewidth": 0,
              "ticks": ""
             }
            },
            "type": "scattercarpet"
           }
          ],
          "scattergeo": [
           {
            "marker": {
             "colorbar": {
              "outlinewidth": 0,
              "ticks": ""
             }
            },
            "type": "scattergeo"
           }
          ],
          "scattergl": [
           {
            "marker": {
             "colorbar": {
              "outlinewidth": 0,
              "ticks": ""
             }
            },
            "type": "scattergl"
           }
          ],
          "scattermapbox": [
           {
            "marker": {
             "colorbar": {
              "outlinewidth": 0,
              "ticks": ""
             }
            },
            "type": "scattermapbox"
           }
          ],
          "scatterpolar": [
           {
            "marker": {
             "colorbar": {
              "outlinewidth": 0,
              "ticks": ""
             }
            },
            "type": "scatterpolar"
           }
          ],
          "scatterpolargl": [
           {
            "marker": {
             "colorbar": {
              "outlinewidth": 0,
              "ticks": ""
             }
            },
            "type": "scatterpolargl"
           }
          ],
          "scatterternary": [
           {
            "marker": {
             "colorbar": {
              "outlinewidth": 0,
              "ticks": ""
             }
            },
            "type": "scatterternary"
           }
          ],
          "surface": [
           {
            "colorbar": {
             "outlinewidth": 0,
             "ticks": ""
            },
            "colorscale": [
             [
              0,
              "#0d0887"
             ],
             [
              0.1111111111111111,
              "#46039f"
             ],
             [
              0.2222222222222222,
              "#7201a8"
             ],
             [
              0.3333333333333333,
              "#9c179e"
             ],
             [
              0.4444444444444444,
              "#bd3786"
             ],
             [
              0.5555555555555556,
              "#d8576b"
             ],
             [
              0.6666666666666666,
              "#ed7953"
             ],
             [
              0.7777777777777778,
              "#fb9f3a"
             ],
             [
              0.8888888888888888,
              "#fdca26"
             ],
             [
              1,
              "#f0f921"
             ]
            ],
            "type": "surface"
           }
          ],
          "table": [
           {
            "cells": {
             "fill": {
              "color": "#EBF0F8"
             },
             "line": {
              "color": "white"
             }
            },
            "header": {
             "fill": {
              "color": "#C8D4E3"
             },
             "line": {
              "color": "white"
             }
            },
            "type": "table"
           }
          ]
         },
         "layout": {
          "annotationdefaults": {
           "arrowcolor": "#2a3f5f",
           "arrowhead": 0,
           "arrowwidth": 1
          },
          "autotypenumbers": "strict",
          "coloraxis": {
           "colorbar": {
            "outlinewidth": 0,
            "ticks": ""
           }
          },
          "colorscale": {
           "diverging": [
            [
             0,
             "#8e0152"
            ],
            [
             0.1,
             "#c51b7d"
            ],
            [
             0.2,
             "#de77ae"
            ],
            [
             0.3,
             "#f1b6da"
            ],
            [
             0.4,
             "#fde0ef"
            ],
            [
             0.5,
             "#f7f7f7"
            ],
            [
             0.6,
             "#e6f5d0"
            ],
            [
             0.7,
             "#b8e186"
            ],
            [
             0.8,
             "#7fbc41"
            ],
            [
             0.9,
             "#4d9221"
            ],
            [
             1,
             "#276419"
            ]
           ],
           "sequential": [
            [
             0,
             "#0d0887"
            ],
            [
             0.1111111111111111,
             "#46039f"
            ],
            [
             0.2222222222222222,
             "#7201a8"
            ],
            [
             0.3333333333333333,
             "#9c179e"
            ],
            [
             0.4444444444444444,
             "#bd3786"
            ],
            [
             0.5555555555555556,
             "#d8576b"
            ],
            [
             0.6666666666666666,
             "#ed7953"
            ],
            [
             0.7777777777777778,
             "#fb9f3a"
            ],
            [
             0.8888888888888888,
             "#fdca26"
            ],
            [
             1,
             "#f0f921"
            ]
           ],
           "sequentialminus": [
            [
             0,
             "#0d0887"
            ],
            [
             0.1111111111111111,
             "#46039f"
            ],
            [
             0.2222222222222222,
             "#7201a8"
            ],
            [
             0.3333333333333333,
             "#9c179e"
            ],
            [
             0.4444444444444444,
             "#bd3786"
            ],
            [
             0.5555555555555556,
             "#d8576b"
            ],
            [
             0.6666666666666666,
             "#ed7953"
            ],
            [
             0.7777777777777778,
             "#fb9f3a"
            ],
            [
             0.8888888888888888,
             "#fdca26"
            ],
            [
             1,
             "#f0f921"
            ]
           ]
          },
          "colorway": [
           "#636efa",
           "#EF553B",
           "#00cc96",
           "#ab63fa",
           "#FFA15A",
           "#19d3f3",
           "#FF6692",
           "#B6E880",
           "#FF97FF",
           "#FECB52"
          ],
          "font": {
           "color": "#2a3f5f"
          },
          "geo": {
           "bgcolor": "white",
           "lakecolor": "white",
           "landcolor": "white",
           "showlakes": true,
           "showland": true,
           "subunitcolor": "#C8D4E3"
          },
          "hoverlabel": {
           "align": "left"
          },
          "hovermode": "closest",
          "mapbox": {
           "style": "light"
          },
          "paper_bgcolor": "white",
          "plot_bgcolor": "white",
          "polar": {
           "angularaxis": {
            "gridcolor": "#EBF0F8",
            "linecolor": "#EBF0F8",
            "ticks": ""
           },
           "bgcolor": "white",
           "radialaxis": {
            "gridcolor": "#EBF0F8",
            "linecolor": "#EBF0F8",
            "ticks": ""
           }
          },
          "scene": {
           "xaxis": {
            "backgroundcolor": "white",
            "gridcolor": "#DFE8F3",
            "gridwidth": 2,
            "linecolor": "#EBF0F8",
            "showbackground": true,
            "ticks": "",
            "zerolinecolor": "#EBF0F8"
           },
           "yaxis": {
            "backgroundcolor": "white",
            "gridcolor": "#DFE8F3",
            "gridwidth": 2,
            "linecolor": "#EBF0F8",
            "showbackground": true,
            "ticks": "",
            "zerolinecolor": "#EBF0F8"
           },
           "zaxis": {
            "backgroundcolor": "white",
            "gridcolor": "#DFE8F3",
            "gridwidth": 2,
            "linecolor": "#EBF0F8",
            "showbackground": true,
            "ticks": "",
            "zerolinecolor": "#EBF0F8"
           }
          },
          "shapedefaults": {
           "line": {
            "color": "#2a3f5f"
           }
          },
          "ternary": {
           "aaxis": {
            "gridcolor": "#DFE8F3",
            "linecolor": "#A2B1C6",
            "ticks": ""
           },
           "baxis": {
            "gridcolor": "#DFE8F3",
            "linecolor": "#A2B1C6",
            "ticks": ""
           },
           "bgcolor": "white",
           "caxis": {
            "gridcolor": "#DFE8F3",
            "linecolor": "#A2B1C6",
            "ticks": ""
           }
          },
          "title": {
           "x": 0.05
          },
          "xaxis": {
           "automargin": true,
           "gridcolor": "#EBF0F8",
           "linecolor": "#EBF0F8",
           "ticks": "",
           "title": {
            "standoff": 15
           },
           "zerolinecolor": "#EBF0F8",
           "zerolinewidth": 2
          },
          "yaxis": {
           "automargin": true,
           "gridcolor": "#EBF0F8",
           "linecolor": "#EBF0F8",
           "ticks": "",
           "title": {
            "standoff": 15
           },
           "zerolinecolor": "#EBF0F8",
           "zerolinewidth": 2
          }
         }
        },
        "title": {
         "font": {
          "family": "Latin Modern Roman"
         }
        },
        "width": 1080,
        "xaxis": {
         "autorange": true,
         "range": [
          1.0000000000000004,
          10
         ],
         "title": {
          "text": "$\\alpha$"
         },
         "type": "linear"
        },
        "yaxis": {
         "autorange": true,
         "range": [
          0,
          1.0526315789473697
         ],
         "title": {
          "text": "$P(\\alpha)$: Percentage of Successful Instances"
         }
        }
       }
      },
      "image/png": "[encoded data removed]",
      "text/html": [
       "<div>                            <div id=\"37e6215a-482e-4d3d-baaf-85fda9189be3\" class=\"plotly-graph-div\" style=\"height:800px; width:1080px;\"></div>            <script type=\"text/javascript\">                require([\"plotly\"], function(Plotly) {                    window.PLOTLYENV=window.PLOTLYENV || {};                                    if (document.getElementById(\"37e6215a-482e-4d3d-baaf-85fda9189be3\")) {                    Plotly.newPlot(                        \"37e6215a-482e-4d3d-baaf-85fda9189be3\",                        [{\"cumulative\":{\"enabled\":true},\"histnorm\":\"probability\",\"name\":\"$\\\\text{abip}, 10^{-4}$\",\"x\":[1.0,1.0,4.424755717366955,1.510610638811093,2.2466735003163425,1.0,2.016822285042395,10.607023037351823,3.0315085589263977,1.0,1.0,1.4123784261715295,5.629933550372385,1.0,1.4861924184261037,1.779978627911947,2.6237563898202607,1.0,1.1453859588731439,8.524547346462098,1.5570259229640875,1.203954437327599,1.333727170769861,1.6751166383359082,1.1019853799697434,1.0,1.4154763426442483,1.288538618975014,1.0,1.2087508029775127,1.1569532392331396,1.0,1.2594695565801373,1.3945305029642379,3.93969501572236,4.220360537189092,1.0,1.0,1.0,1.2475896111085483,1.0,1.0,5.0266691885757515,1.3649438912596807,5.6168738476179145,3.625081845562879,2.458719396726633,1.5509990531806863,7.541883621083402,2.792458049050341,1.0,1.8030147290386282,1.374709733282605,1.3435771358328212,1.5043319320051178,1.3220654685937014,1.1735586297464167,3.0467440834925767,1.0,1.1653025711260376,8.686626482430928,1.3314894680917557,1.306741451839068,1.0,1.0,1.1434463992346389,2.767349004196822,1.0,1.0,1.0,1.0,8.17359901979751,1.0581684228561639,6.991327751196172,1.0,5.747874501542397,1.0,3.6039967739044716,1.0,1.1591554984122985,1.2669876950297572,1.0,1.0,1.0,1.6273567661432096,1.0,1.7640594314732896,2.0650936746517954,1.0323142140055113,1.0,1.406879688631597,3.2349643939928083,1.8631872393520756,1.1424202155708831,1.6225727005778157,2.0253230923566288,1.0,1.103900010528374,1.1962960990656273,4.396817857990976,1.6868015623304764,6.686487315946962,1.8944170303005587,1.1103550083901168,1.0,1.096534304345962,4.390873941737217,1.3195048647547247,2.030740278926476,1.0228293568295008,2.2153414629294397,1.8982693778186983,1.0,1.039647769213793,1.0,10.174563735120767,1.0,2.618187524911263,1.0462006768637386,1.0337327778052656,1.779428707344448,8.650279211101385,1.0,1.0,1.2010211343055068,6.3489346553269534,3.8904935325882204,1.288068925883007,1.0,1.4600540776904758,1.0,1.0,1.0,1.2914058977716907,1.0966132048744786,5.334636401849517,7.7072696758236905,2.494558097349592,13.781300076639031,1.0,1.0,1.973414149497079,1.021074685057271,13.85095500916268,1.696114774045672,1.0,3.074270849408082,15.124697351567987,1.0,1.0,1.9616521686857995,4.443193775708683,1.0,3.738546138091631,4.344208761142656,1.0,1.0,1.0,1.0,8.375,1.0,3.4340473304659036,1.0,1.0,1.6983825591624495,1.2644639693575592,4.970548439357411,4.95488576384123,1.4527267904433694,1.0,5.975241031022496,1.4864479426433914,1.0,1.0,1.8798433918169675,1.1889575208731384,1.0,1.8535628636760797,1.3225191722402612,1.0,1.0,1.1052665289203507,1.0,6.425641655409554,1.0894980906652922,1.2155358968871133,8.116683547976013,1.7871237333492895,1.0,1.0,1.2869349630161995,1.9206721063749963,1.4260810134380655,1.0,1.0779431650281668,5.000286759676989,1.0,1.0,1.0,1.0,7.8449969306322895,4.759037982407078,2.7736838048254064,7.4410629857072985,14.98958249301466,1.0,1.0,1.7343330082271453,5.880421751560051,1.2307857047522806,1.0,1.6830715267093408],\"xbins\":{\"end\":10,\"size\":0.04,\"start\":0},\"type\":\"histogram\",\"opacity\":0.45},{\"cumulative\":{\"enabled\":true},\"histnorm\":\"probability\",\"name\":\"$\\\\text{pdlp}, 10^{-4}$\",\"x\":[2.968350461239683,1.496812545819654,1.0,1.0,1.0,2.1867083714900755,1.0,1.0,1.0,2.322837234472387,2.6270273766278054,1.0,1.0,1.8103570010149597,1.0,1.0,1.0,2.092593430458782,1.0,1.0,1.0,1.0,1.0,1.0,1.0,1.2308813737876394,1.0,1.0,1.8268297519281145,1.0,1.0,1.4167659749332238,1.0,1.0,1.0,1.0,1.1845107732098534,1.132140956055049,1.1434719306824748,1.0,1.2316315370849076,1.0441522971127553,1.0,1.0,1.0,1.0,1.0,1.0,1.0,1.0,2.1813645443052163,1.0,1.0,1.0,1.0,1.0,1.0,1.0,1.7594062431162998,1.0,1.0,1.0,1.0,3.603456799384627,1.682278653833026,1.0,1.0,1.5167380061941214,1.0320387505973327,1.2175330101955542,2.21507480208302,1.0,1.0,1.0,1.2964949877029728,1.0,4.414974771026138,1.0,1.028057289753948,1.0,1.0,1.0367564214765785,1.305719939713142,2.461684928597309,1.0,1.2788248850978159,1.0,1.0,1.0,1.2320149943954772,1.0,1.0,1.0,1.0,1.0,1.0,1.1304566160909646,1.0,1.0,1.0,1.0,1.0,1.0,1.0,2.7024644137466063,1.0,1.0,1.0,1.0,1.0,1.0,1.0,1.4060444344135976,1.0,1.5205569412014435,1.0,1.004093027373146,1.0,1.0,1.0,1.0,1.0,1.2049478244210103,1.0640692064126287,1.0,1.0,1.0,1.0,3.1308532216995384,1.0,1.0525838200051187,1.1731694398194192,1.1317424619448697,1.0,1.0,1.0,1.0,1.0,1.0,1.9430824224213852,1.6478313416533636,1.0,1.0,1.0,1.0,1.02373447414557,1.0,1.0,1.0026088288163464,1.3893970552130657,1.0,1.0,1.0406364938562658,1.0,1.0,1.9815496728130109,5.251720445953154,1.1760292654533642,1.0435133115734005,1.0,2.147171991468773,1.0,1.8016754652036169,1.196311458648045,1.0,1.0,1.0,1.0,1.0,1.4729519533446334,1.0,1.0,3.285741098241098,1.232498321528454,1.0,1.0,3.2200751690145193,1.0,1.0,8.873317475579665,5.844597269411802,1.0,1.5868543382845777,1.0,1.0,1.0,1.0,1.0,7.19131290342568,28.849179716217392,1.0,1.0,1.0,1.0422470876259016,1.0,1.0,1.0104254128183598,1.0019053945390344,1.2837805588583568,1.029047220798634,1.0,1.0,1.0,1.0,1.0,1.5652960528860298,1.1744780489320228,1.0,1.0,1.0,1.0829985784842218,1.0],\"xbins\":{\"end\":10,\"size\":0.04,\"start\":0},\"type\":\"histogram\",\"opacity\":0.45},{\"cumulative\":{\"enabled\":true},\"histnorm\":\"probability\",\"name\":\"$\\\\text{abip}, 10^{-6}$\",\"x\":[1.0,6.859573551583028,3.966187468545079,1.3140146703351998,1.0,1.0,4.956462101198944,1.0,1.2495828240837923,1.079405594179884,1.0,4.4410434636965075,1.0,1.0,1.8629958865236627,2.097171069885178,1.152254720788462,1.282132793266631,1.4437003752493762,1.1745425846822541,1.0042909575333998,1.0,1.1060919073495574,1.5889038146471905,1.195816664438434,1.0,1.4535665473040993,1.2178438480476652,4.325406667152965,2.427303878776824,1.0819544170782782,1.0,1.0,1.7134679701569333,1.124795496346879,1.0,1.0,6.283557233263018,1.3615570068359375,5.5257452574525745,5.788580444330732,1.3144853583413783,1.123941789122738,5.140791152700978,1.2356570586610185,1.0,1.2976078698979376,1.0,7.2085135205543684,6.351187841227682,1.4652035478735501,1.5562174006975094,1.3683687473380342,1.0,1.1427579129583973,2.2303478672012416,4.219998774209365,1.2912354532571821,1.0,1.2571147555982525,1.0,3.3860796037405407,1.0,1.0,1.0,1.0,9.267279877357861,1.316643269380752,1.75571828948558,1.0,1.0,1.0,1.0,7.606217616580311,1.0,1.4587919274341719,1.0,1.4121047227926078,1.0,2.5930177535533394,1.0274957061023429,1.3119095384164046,1.08274170132742,1.3184506493188142,1.0,1.0,1.0,1.1734155857850892,1.0,1.0417552108325638,1.2708345837884991,3.872160704145372,1.0,3.0513770395648927,1.091486620708645,1.1595722925850545,1.0,1.0275833635983993,5.083685481436764,1.4721099698860514,1.207842841603033,1.7370349356971992,1.0198852414184283,2.888981381844761,2.557356432063637,1.0,1.0,2.414123432950654,5.364611569294654,1.0429552291650896,1.0,1.0364366134654992,1.871536931686786,1.4127447749838042,1.0,1.056773743239324,1.2032610677983748,1.139168826699076,3.4443324040571803,2.1140477340211645,1.0,1.0,1.0,1.0,6.708739366662085,1.0795522585196895,7.356836720586202,10.177227888312991,1.0,8.625265844321566,1.0,158.82594671390584,1.0,2.3594032593332974,1.1042504938181286,2.2774176785909637,1.04769933028346,2.9594066973784785,16.11455347903039,1.0,1.2035227822551084,3.7023844665289123,1.0949987694459917,1.2890938050129936,1.0,1.1102274407408728,1.0,1.0,1.0,14.996724702637476,1.0,1.0,1.0,1.0,1.0,1.215535149781725,1.516913436477569,1.0,1.123156904616636,1.1758856240824962,1.0,1.0,1.3585525093991557,1.1212483650530527,1.3705474146464278,1.0,1.0,1.0,1.0,1.0,1.0,6.277530768735099,1.0,1.0,6.763571276102749,1.4617098560650001,1.1906152510965684,2.084637171383128,4.95480724570367,1.0,1.0,2.5884922696260455,1.0312053999269162,1.030315972020008,1.178644336398119,14.172735217011361,6.293640124095139,5.130535561790899,5.487011679420056,48.569625774740835,1.1908214668434847,1.0066590500261439,3.1009186161024203,1.0,1.137915624870495,1.0],\"xbins\":{\"end\":10,\"size\":0.04,\"start\":0},\"type\":\"histogram\",\"opacity\":0.45},{\"cumulative\":{\"enabled\":true},\"histnorm\":\"probability\",\"name\":\"$\\\\text{pdlp}, 10^{-6}$\",\"x\":[1.1122407245106631,1.0,1.0,1.0,2.332323601608607,2.25374582432698,1.0,2.803749363590079,1.0,1.0,1.0255832511852792,1.0,1.7356448588257045,1.010036039438146,1.0,1.0,1.0,1.0,1.0,1.0,1.0,1.3086562649505378,1.0,1.0,1.0,1.1543523846148265,1.0,1.0,1.0,1.0,1.0,1.0759489040414387,1.042519830066088,1.0,1.0,2.987587276958883,1.0029758420993564,1.0,1.0,1.0,1.0,1.0,1.0,1.0,1.0,3.94990784382449,1.0,1.5404487056567593,1.0,1.0,1.0,1.0,1.0,1.7497463805157323,1.0,1.0,1.0,1.0,1.089582095574739,1.0,1.000486900069557,1.0,1.4301480528364579,1.9482478424926215,1.0796874401501513,1.1499688164649065,1.0,1.0,1.0,5.020875083500334,1.2720169148740577,1.5858922886742295,2.6006446921005564,1.0,1.8014656610444975,1.0,1.8739237431414746,1.0,1.409859333656056,1.0,1.0,1.0,1.0,1.0,3.3166670735577743,1.0144919970347788,1.0684404209906528,1.0,1.3842991587720257,1.0,1.0,1.0,1.4569794893489267,1.0,1.0,1.0,1.8998390162029941,1.0,1.0,1.0,1.0,1.0,1.0,1.0,1.0,1.1786201541683337,1.0187306439972952,1.0,1.0,1.0,1.08370814859851,1.0,1.0,1.0,1.052506244735979,1.0,1.0,1.0,1.0,1.0,3.446397954142571,1.2369681761149767,1.0993298845793422,1.41036740762687,1.0,1.0,1.0,1.0,1.1766472490105357,1.0,1.0828080649555374,1.0,1.031232329024602,1.0,1.0,1.0,1.0,1.0,1.0,1.1536754534276052,1.0,1.0,1.0,1.0,1.114081409906584,1.0,1.2286996166170334,1.3906798345748914,1.0779234640240356,1.0,4.78146314667434,1.5929204595616746,1.8195950048842304,1.041577176197641,1.05560052116235,1.0,1.0,1.062992894380339,1.0,1.0,1.1711571070976772,2.8214890393869188,1.0,1.0,1.0,1.1276524615547032,1.0416093893193368,1.6551701447640534,1.2383311057565605,1.8751027977547314,1.7690368428673797,1.0,1.1465584006745575,1.5135777946959592,1.0,1.0,1.0,1.0,1.0,1.0692764371863328,1.069947253916827,1.0,1.0,1.0,1.0,1.0,1.0,1.0,1.0,1.0,1.0,1.0,1.0,1.0353407398951493,1.0,2.076896154803385],\"xbins\":{\"end\":10,\"size\":0.04,\"start\":0},\"type\":\"histogram\",\"opacity\":0.45}],                        {\"template\":{\"data\":{\"barpolar\":[{\"marker\":{\"line\":{\"color\":\"white\",\"width\":0.5},\"pattern\":{\"fillmode\":\"overlay\",\"size\":10,\"solidity\":0.2}},\"type\":\"barpolar\"}],\"bar\":[{\"error_x\":{\"color\":\"#2a3f5f\"},\"error_y\":{\"color\":\"#2a3f5f\"},\"marker\":{\"line\":{\"color\":\"white\",\"width\":0.5},\"pattern\":{\"fillmode\":\"overlay\",\"size\":10,\"solidity\":0.2}},\"type\":\"bar\"}],\"carpet\":[{\"aaxis\":{\"endlinecolor\":\"#2a3f5f\",\"gridcolor\":\"#C8D4E3\",\"linecolor\":\"#C8D4E3\",\"minorgridcolor\":\"#C8D4E3\",\"startlinecolor\":\"#2a3f5f\"},\"baxis\":{\"endlinecolor\":\"#2a3f5f\",\"gridcolor\":\"#C8D4E3\",\"linecolor\":\"#C8D4E3\",\"minorgridcolor\":\"#C8D4E3\",\"startlinecolor\":\"#2a3f5f\"},\"type\":\"carpet\"}],\"choropleth\":[{\"colorbar\":{\"outlinewidth\":0,\"ticks\":\"\"},\"type\":\"choropleth\"}],\"contourcarpet\":[{\"colorbar\":{\"outlinewidth\":0,\"ticks\":\"\"},\"type\":\"contourcarpet\"}],\"contour\":[{\"colorbar\":{\"outlinewidth\":0,\"ticks\":\"\"},\"colorscale\":[[0.0,\"#0d0887\"],[0.1111111111111111,\"#46039f\"],[0.2222222222222222,\"#7201a8\"],[0.3333333333333333,\"#9c179e\"],[0.4444444444444444,\"#bd3786\"],[0.5555555555555556,\"#d8576b\"],[0.6666666666666666,\"#ed7953\"],[0.7777777777777778,\"#fb9f3a\"],[0.8888888888888888,\"#fdca26\"],[1.0,\"#f0f921\"]],\"type\":\"contour\"}],\"heatmapgl\":[{\"colorbar\":{\"outlinewidth\":0,\"ticks\":\"\"},\"colorscale\":[[0.0,\"#0d0887\"],[0.1111111111111111,\"#46039f\"],[0.2222222222222222,\"#7201a8\"],[0.3333333333333333,\"#9c179e\"],[0.4444444444444444,\"#bd3786\"],[0.5555555555555556,\"#d8576b\"],[0.6666666666666666,\"#ed7953\"],[0.7777777777777778,\"#fb9f3a\"],[0.8888888888888888,\"#fdca26\"],[1.0,\"#f0f921\"]],\"type\":\"heatmapgl\"}],\"heatmap\":[{\"colorbar\":{\"outlinewidth\":0,\"ticks\":\"\"},\"colorscale\":[[0.0,\"#0d0887\"],[0.1111111111111111,\"#46039f\"],[0.2222222222222222,\"#7201a8\"],[0.3333333333333333,\"#9c179e\"],[0.4444444444444444,\"#bd3786\"],[0.5555555555555556,\"#d8576b\"],[0.6666666666666666,\"#ed7953\"],[0.7777777777777778,\"#fb9f3a\"],[0.8888888888888888,\"#fdca26\"],[1.0,\"#f0f921\"]],\"type\":\"heatmap\"}],\"histogram2dcontour\":[{\"colorbar\":{\"outlinewidth\":0,\"ticks\":\"\"},\"colorscale\":[[0.0,\"#0d0887\"],[0.1111111111111111,\"#46039f\"],[0.2222222222222222,\"#7201a8\"],[0.3333333333333333,\"#9c179e\"],[0.4444444444444444,\"#bd3786\"],[0.5555555555555556,\"#d8576b\"],[0.6666666666666666,\"#ed7953\"],[0.7777777777777778,\"#fb9f3a\"],[0.8888888888888888,\"#fdca26\"],[1.0,\"#f0f921\"]],\"type\":\"histogram2dcontour\"}],\"histogram2d\":[{\"colorbar\":{\"outlinewidth\":0,\"ticks\":\"\"},\"colorscale\":[[0.0,\"#0d0887\"],[0.1111111111111111,\"#46039f\"],[0.2222222222222222,\"#7201a8\"],[0.3333333333333333,\"#9c179e\"],[0.4444444444444444,\"#bd3786\"],[0.5555555555555556,\"#d8576b\"],[0.6666666666666666,\"#ed7953\"],[0.7777777777777778,\"#fb9f3a\"],[0.8888888888888888,\"#fdca26\"],[1.0,\"#f0f921\"]],\"type\":\"histogram2d\"}],\"histogram\":[{\"marker\":{\"pattern\":{\"fillmode\":\"overlay\",\"size\":10,\"solidity\":0.2}},\"type\":\"histogram\"}],\"mesh3d\":[{\"colorbar\":{\"outlinewidth\":0,\"ticks\":\"\"},\"type\":\"mesh3d\"}],\"parcoords\":[{\"line\":{\"colorbar\":{\"outlinewidth\":0,\"ticks\":\"\"}},\"type\":\"parcoords\"}],\"pie\":[{\"automargin\":true,\"type\":\"pie\"}],\"scatter3d\":[{\"line\":{\"colorbar\":{\"outlinewidth\":0,\"ticks\":\"\"}},\"marker\":{\"colorbar\":{\"outlinewidth\":0,\"ticks\":\"\"}},\"type\":\"scatter3d\"}],\"scattercarpet\":[{\"marker\":{\"colorbar\":{\"outlinewidth\":0,\"ticks\":\"\"}},\"type\":\"scattercarpet\"}],\"scattergeo\":[{\"marker\":{\"colorbar\":{\"outlinewidth\":0,\"ticks\":\"\"}},\"type\":\"scattergeo\"}],\"scattergl\":[{\"marker\":{\"colorbar\":{\"outlinewidth\":0,\"ticks\":\"\"}},\"type\":\"scattergl\"}],\"scattermapbox\":[{\"marker\":{\"colorbar\":{\"outlinewidth\":0,\"ticks\":\"\"}},\"type\":\"scattermapbox\"}],\"scatterpolargl\":[{\"marker\":{\"colorbar\":{\"outlinewidth\":0,\"ticks\":\"\"}},\"type\":\"scatterpolargl\"}],\"scatterpolar\":[{\"marker\":{\"colorbar\":{\"outlinewidth\":0,\"ticks\":\"\"}},\"type\":\"scatterpolar\"}],\"scatter\":[{\"marker\":{\"colorbar\":{\"outlinewidth\":0,\"ticks\":\"\"}},\"type\":\"scatter\"}],\"scatterternary\":[{\"marker\":{\"colorbar\":{\"outlinewidth\":0,\"ticks\":\"\"}},\"type\":\"scatterternary\"}],\"surface\":[{\"colorbar\":{\"outlinewidth\":0,\"ticks\":\"\"},\"colorscale\":[[0.0,\"#0d0887\"],[0.1111111111111111,\"#46039f\"],[0.2222222222222222,\"#7201a8\"],[0.3333333333333333,\"#9c179e\"],[0.4444444444444444,\"#bd3786\"],[0.5555555555555556,\"#d8576b\"],[0.6666666666666666,\"#ed7953\"],[0.7777777777777778,\"#fb9f3a\"],[0.8888888888888888,\"#fdca26\"],[1.0,\"#f0f921\"]],\"type\":\"surface\"}],\"table\":[{\"cells\":{\"fill\":{\"color\":\"#EBF0F8\"},\"line\":{\"color\":\"white\"}},\"header\":{\"fill\":{\"color\":\"#C8D4E3\"},\"line\":{\"color\":\"white\"}},\"type\":\"table\"}]},\"layout\":{\"annotationdefaults\":{\"arrowcolor\":\"#2a3f5f\",\"arrowhead\":0,\"arrowwidth\":1},\"autotypenumbers\":\"strict\",\"coloraxis\":{\"colorbar\":{\"outlinewidth\":0,\"ticks\":\"\"}},\"colorscale\":{\"diverging\":[[0,\"#8e0152\"],[0.1,\"#c51b7d\"],[0.2,\"#de77ae\"],[0.3,\"#f1b6da\"],[0.4,\"#fde0ef\"],[0.5,\"#f7f7f7\"],[0.6,\"#e6f5d0\"],[0.7,\"#b8e186\"],[0.8,\"#7fbc41\"],[0.9,\"#4d9221\"],[1,\"#276419\"]],\"sequential\":[[0.0,\"#0d0887\"],[0.1111111111111111,\"#46039f\"],[0.2222222222222222,\"#7201a8\"],[0.3333333333333333,\"#9c179e\"],[0.4444444444444444,\"#bd3786\"],[0.5555555555555556,\"#d8576b\"],[0.6666666666666666,\"#ed7953\"],[0.7777777777777778,\"#fb9f3a\"],[0.8888888888888888,\"#fdca26\"],[1.0,\"#f0f921\"]],\"sequentialminus\":[[0.0,\"#0d0887\"],[0.1111111111111111,\"#46039f\"],[0.2222222222222222,\"#7201a8\"],[0.3333333333333333,\"#9c179e\"],[0.4444444444444444,\"#bd3786\"],[0.5555555555555556,\"#d8576b\"],[0.6666666666666666,\"#ed7953\"],[0.7777777777777778,\"#fb9f3a\"],[0.8888888888888888,\"#fdca26\"],[1.0,\"#f0f921\"]]},\"colorway\":[\"#636efa\",\"#EF553B\",\"#00cc96\",\"#ab63fa\",\"#FFA15A\",\"#19d3f3\",\"#FF6692\",\"#B6E880\",\"#FF97FF\",\"#FECB52\"],\"font\":{\"color\":\"#2a3f5f\"},\"geo\":{\"bgcolor\":\"white\",\"lakecolor\":\"white\",\"landcolor\":\"white\",\"showlakes\":true,\"showland\":true,\"subunitcolor\":\"#C8D4E3\"},\"hoverlabel\":{\"align\":\"left\"},\"hovermode\":\"closest\",\"mapbox\":{\"style\":\"light\"},\"paper_bgcolor\":\"white\",\"plot_bgcolor\":\"white\",\"polar\":{\"angularaxis\":{\"gridcolor\":\"#EBF0F8\",\"linecolor\":\"#EBF0F8\",\"ticks\":\"\"},\"bgcolor\":\"white\",\"radialaxis\":{\"gridcolor\":\"#EBF0F8\",\"linecolor\":\"#EBF0F8\",\"ticks\":\"\"}},\"scene\":{\"xaxis\":{\"backgroundcolor\":\"white\",\"gridcolor\":\"#DFE8F3\",\"gridwidth\":2,\"linecolor\":\"#EBF0F8\",\"showbackground\":true,\"ticks\":\"\",\"zerolinecolor\":\"#EBF0F8\"},\"yaxis\":{\"backgroundcolor\":\"white\",\"gridcolor\":\"#DFE8F3\",\"gridwidth\":2,\"linecolor\":\"#EBF0F8\",\"showbackground\":true,\"ticks\":\"\",\"zerolinecolor\":\"#EBF0F8\"},\"zaxis\":{\"backgroundcolor\":\"white\",\"gridcolor\":\"#DFE8F3\",\"gridwidth\":2,\"linecolor\":\"#EBF0F8\",\"showbackground\":true,\"ticks\":\"\",\"zerolinecolor\":\"#EBF0F8\"}},\"shapedefaults\":{\"line\":{\"color\":\"#2a3f5f\"}},\"ternary\":{\"aaxis\":{\"gridcolor\":\"#DFE8F3\",\"linecolor\":\"#A2B1C6\",\"ticks\":\"\"},\"baxis\":{\"gridcolor\":\"#DFE8F3\",\"linecolor\":\"#A2B1C6\",\"ticks\":\"\"},\"bgcolor\":\"white\",\"caxis\":{\"gridcolor\":\"#DFE8F3\",\"linecolor\":\"#A2B1C6\",\"ticks\":\"\"}},\"title\":{\"x\":0.05},\"xaxis\":{\"automargin\":true,\"gridcolor\":\"#EBF0F8\",\"linecolor\":\"#EBF0F8\",\"ticks\":\"\",\"title\":{\"standoff\":15},\"zerolinecolor\":\"#EBF0F8\",\"zerolinewidth\":2},\"yaxis\":{\"automargin\":true,\"gridcolor\":\"#EBF0F8\",\"linecolor\":\"#EBF0F8\",\"ticks\":\"\",\"title\":{\"standoff\":15},\"zerolinecolor\":\"#EBF0F8\",\"zerolinewidth\":2}}},\"font\":{\"family\":\"Latin Modern Roman\"},\"title\":{\"font\":{\"family\":\"Latin Modern Roman\"}},\"legend\":{\"font\":{\"family\":\"Latin Modern Roman\"},\"yanchor\":\"top\",\"y\":0.99,\"xanchor\":\"left\",\"x\":0.01},\"width\":1080,\"height\":800,\"barmode\":\"overlay\",\"xaxis\":{\"title\":{\"text\":\"$\\\\alpha$\"}},\"yaxis\":{\"title\":{\"text\":\"$P(\\\\alpha)$: Percentage of Successful Instances\"}}},                        {\"responsive\": true}                    ).then(function(){\n",
       "                            \n",
       "var gd = document.getElementById('37e6215a-482e-4d3d-baaf-85fda9189be3');\n",
       "var x = new MutationObserver(function (mutations, observer) {{\n",
       "        var display = window.getComputedStyle(gd).display;\n",
       "        if (!display || display === 'none') {{\n",
       "            console.log([gd, 'removed!']);\n",
       "            Plotly.purge(gd);\n",
       "            observer.disconnect();\n",
       "        }}\n",
       "}});\n",
       "\n",
       "// Listen for the removal of the full notebook cells\n",
       "var notebookContainer = gd.closest('#notebook-container');\n",
       "if (notebookContainer) {{\n",
       "    x.observe(notebookContainer, {childList: true});\n",
       "}}\n",
       "\n",
       "// Listen for the clearing of the current output cell\n",
       "var outputEl = gd.closest('.output');\n",
       "if (outputEl) {{\n",
       "    x.observe(outputEl, {childList: true});\n",
       "}}\n",
       "\n",
       "                        })                };                });            </script>        </div>"
      ]
     },
     "metadata": {},
     "output_type": "display_data"
    }
   ],
   "source": [
    "fig = go.Figure()\n",
    "for mm in df_plot.index.get_level_values(0).unique():\n",
    "# for mm in df_plot.index.get_level_values(0).unique():\n",
    "    fig.add_trace(\n",
    "        go.Histogram(\n",
    "            # x=df_plot.loc[mm, 'time'].values,\n",
    "            # x=np.log((df_plot.loc[mm, 'time'].values + 1).tolist()),\n",
    "            # x=df_plot.loc[mm, 'time']/(df_min['time'] + 1),\n",
    "            x=df_plot.loc[mm, 'alphat'],\n",
    "            name=mm,\n",
    "            xbins=dict(\n",
    "                start=0,\n",
    "                end=10,\n",
    "                size=0.04\n",
    "            ),\n",
    "            cumulative_enabled=True,\n",
    "            histnorm='probability',\n",
    "        ) \n",
    "    )\n",
    "\n",
    "# Overlay both histograms\n",
    "fig.update_layout(\n",
    "    width=1080, height=800,\n",
    "    barmode='overlay',\n",
    "    font_family=\"Latin Modern Roman\",\n",
    "    title_font_family=\"Latin Modern Roman\",\n",
    "    legend_font_family=\"Latin Modern Roman\",\n",
    "    xaxis_title=r\"$\\alpha$\", \n",
    "    yaxis_title=r\"$P(\\alpha)$: Percentage of Successful Instances\",\n",
    "    template = 'plotly_white',\n",
    "    legend=dict(\n",
    "        yanchor=\"top\",\n",
    "        y=0.99,\n",
    "        xanchor=\"left\",\n",
    "        x=0.01\n",
    "    )\n",
    ")\n",
    "# Reduce opacity to see both histograms\n",
    "fig.update_traces(opacity=0.45)\n",
    "fig.show()\n"
   ]
  },
  {
   "cell_type": "code",
   "execution_count": 14,
   "id": "1d57789f-85a5-4a74-adba-cd3367a3df70",
   "metadata": {},
   "outputs": [],
   "source": [
    "fig.write_image(\"fig.pdf\")\n",
    "fig.write_html(\"fig.html\", include_mathjax=\"cdn\")"
   ]
  },
  {
   "cell_type": "code",
   "execution_count": 11,
   "id": "f975ef78-97df-4942-b89d-0413a9291c78",
   "metadata": {
    "scrolled": true,
    "tags": []
   },
   "outputs": [
    {
     "name": "stdout",
     "output_type": "stream",
     "text": [
      "(CVXPY) Jul 08 03:31:23 PM: Encountered unexpected exception importing solver GLOP:\n",
      "RuntimeError('Unrecognized new version of ortools (9.6.2534). Expected < 9.5.0.Please open a feature request on cvxpy to enable support for this version.')\n",
      "(CVXPY) Jul 08 03:31:23 PM: Encountered unexpected exception importing solver PDLP:\n",
      "RuntimeError('Unrecognized new version of ortools (9.6.2534). Expected < 9.5.0.Please open a feature request on cvxpy to enable support for this version.')\n",
      "Read MPS format model from file ../abip-lp/datasets/netlib/unpacked/pre_afiro.mps\n"
     ]
    },
    {
     "name": "stderr",
     "output_type": "stream",
     "text": [
      "2023-07-08 15:31:23,392 INFO gurobipy.gurobipy Read MPS format model from file ../abip-lp/datasets/netlib/unpacked/pre_afiro.mps\n"
     ]
    },
    {
     "name": "stdout",
     "output_type": "stream",
     "text": [
      "Reading time = 0.00 seconds\n"
     ]
    },
    {
     "name": "stderr",
     "output_type": "stream",
     "text": [
      "2023-07-08 15:31:23,394 INFO gurobipy.gurobipy Reading time = 0.00 seconds\n"
     ]
    },
    {
     "name": "stdout",
     "output_type": "stream",
     "text": [
      "matlab: 18 rows, 28 columns, 57 nonzeros\n"
     ]
    },
    {
     "name": "stderr",
     "output_type": "stream",
     "text": [
      "2023-07-08 15:31:23,395 INFO gurobipy.gurobipy matlab: 18 rows, 28 columns, 57 nonzeros\n"
     ]
    },
    {
     "name": "stdout",
     "output_type": "stream",
     "text": [
      "termination_criteria {\n",
      "  eps_optimal_absolute: 1e-08\n",
      "  eps_optimal_relative: 1e-08\n",
      "  eps_primal_infeasible: 1e-12\n",
      "  eps_dual_infeasible: 1e-12\n",
      "  time_sec_limit: 3600\n",
      "}\n",
      "verbosity_level: 2\n",
      "presolve_options {\n",
      "  use_glop: false\n",
      "}\n",
      "\n",
      "Primal solution: [ 80.00000008  69.05148171   0.           0.           0.\n",
      "   0.           0.           0.          18.21428578 499.99999998\n",
      "   0.         339.94285691   0.          10.94851848   0.\n",
      "   0.          50.83719566 363.15836113 226.80542957   0.\n",
      " 214.25140529 283.30288679 312.8135     349.18704651  38.98671411\n",
      "   0.         500.501       17.55814292]\n",
      "Dual solution: [-1.56340675e-01 -3.42857155e-01 -2.28571418e-01 -9.11164595e-10\n",
      " -1.49732171e-01 -1.54609833e-01 -3.17346471e-09 -5.21459446e-09\n",
      " -8.12413444e-10 -3.44771412e-01 -1.06879542e-09  1.88061496e-16\n",
      "  1.86716512e-16 -1.86716512e-16 -3.35106021e-09 -8.74342874e-01\n",
      "  0.00000000e+00  4.92700493e-09]\n",
      "Reduced costs: [0.00000000e+00 1.23724648e-09 1.56340674e-01 1.49732170e-01\n",
      " 1.54609832e-01 1.54899142e-01 8.05003596e-03 4.54838112e-03\n",
      " 0.00000000e+00 3.32755690e-09 8.77332983e-01 6.54415591e-09\n",
      " 2.28571418e-01 9.11164595e-10 1.49732171e-01 1.54609833e-01\n",
      " 3.17346471e-09 5.21459446e-09 8.12413444e-10 3.44771412e-01\n",
      " 1.06879542e-09 0.00000000e+00 0.00000000e+00 1.86716512e-16\n",
      " 3.35106021e-09 8.74342874e-01 0.00000000e+00 0.00000000e+00]\n",
      "Iterations: 448\n",
      "Solve time (sec): 0.0020554230000000002\n",
      "Cardinal Optimizer v6.0.4. Build date Dec 21 2022\n",
      "Copyright Cardinal Operations 2022. All Rights Reserved\n",
      "\n",
      "Reading from '/home/chuwen/workspace/datasets/netlib/unpacked/pre_afiro.mps'\n",
      "Reading switch to free MPS format\n",
      "Reading finished (0.00s)\n",
      "Setting parameter 'LpMethod' to 3\n",
      "Setting parameter 'TimeLimit' to 1000\n",
      "Model fingerprint: 31d6dace\n",
      "\n",
      "Using Cardinal Optimizer v6.0.4 on Linux\n",
      "Hardware has 32 cores and 64 threads. Using instruction set X86_AVX512_E1 (14)\n",
      "Minimizing an LP problem\n",
      "\n",
      "The original problem has:\n",
      "    18 rows, 28 columns and 57 non-zero elements\n",
      "\n",
      "Starting crossover\n",
      "       1 primal pushes remaining      0.01s\n",
      "       0 primal pushes remaining      0.01s\n",
      "       3 dual pushes remaining        0.01s\n",
      "       0 dual pushes remaining        0.01s\n",
      "\n",
      "Method   Iteration           Objective  Primal.NInf   Dual.NInf        Time\n",
      "Dual             1   -4.6475314286e+02            0           0       0.01s\n",
      "Postsolving\n",
      "Dual             1   -4.6475314286e+02            0           0       0.01s\n",
      "\n",
      "Solving finished\n",
      "Status: Optimal  Objective: -4.6475314286e+02  Iterations: 1  Time: 0.01s\n",
      "{'name': 'pre_afiro', 'Status': 1, 'ObjVal': -464.75314285714285, 'IterCount': 1, 'SolvingTime': 0.013920068740844727}\n"
     ]
    },
    {
     "name": "stderr",
     "output_type": "stream",
     "text": [
      "WARNING: All log messages before absl::InitializeLog() is called are written to STDERR\n",
      "I0000 00:00:1688801483.398576 2819563 primal_dual_hybrid_gradient.cc:842] Problem stats before rescaling:\n",
      "I0000 00:00:1688801483.398686 2819563 primal_dual_hybrid_gradient.cc:1088] There are 28 variables, 18 constraints, and 57 constraint matrix nonzeros.\n",
      "I0000 00:00:1688801483.398705 2819563 primal_dual_hybrid_gradient.cc:1094] Absolute values of nonzero constraint matrix elements: largest=1.400000, smallest=0.109000, avg=0.927020\n",
      "I0000 00:00:1688801483.398716 2819563 primal_dual_hybrid_gradient.cc:1099] Constraint matrix, infinity norm: max(row & col)=1.400000, min_col=1.000000, min_row=1.000000\n",
      "I0000 00:00:1688801483.398735 2819563 primal_dual_hybrid_gradient.cc:1104] Constraint bounds statistics (max absolute value per row): largest=500.501000, smallest=44.000000, avg=174.878296, l2_norm=1056.702939\n",
      "I0000 00:00:1688801483.398744 2819563 primal_dual_hybrid_gradient.cc:1121] Absolute values of objective vector elements: largest=0.600000, smallest=0.219400, avg=0.077707, l2_norm=1.024947\n",
      "I0000 00:00:1688801483.398749 2819563 primal_dual_hybrid_gradient.cc:1128] Gaps between variable upper and lower bounds: #finite=0 of 28, largest=0.000000, smallest=0.000000, avg=nan\n",
      "I0000 00:00:1688801483.398780 2819563 primal_dual_hybrid_gradient.cc:918] Problem stats after rescaling:\n",
      "I0000 00:00:1688801483.398785 2819563 primal_dual_hybrid_gradient.cc:1088] There are 28 variables, 18 constraints, and 57 constraint matrix nonzeros.\n",
      "I0000 00:00:1688801483.398789 2819563 primal_dual_hybrid_gradient.cc:1094] Absolute values of nonzero constraint matrix elements: largest=0.873935, smallest=0.062717, avg=0.583464\n",
      "I0000 00:00:1688801483.398793 2819563 primal_dual_hybrid_gradient.cc:1099] Constraint matrix, infinity norm: max(row & col)=0.873935, min_col=0.584797, min_row=0.593604\n",
      "I0000 00:00:1688801483.398797 2819563 primal_dual_hybrid_gradient.cc:1104] Constraint bounds statistics (max absolute value per row): largest=420.869497, smallest=36.566445, avg=144.698919, l2_norm=879.725320\n",
      "I0000 00:00:1688801483.398801 2819563 primal_dual_hybrid_gradient.cc:1121] Absolute values of objective vector elements: largest=0.511939, smallest=0.189973, avg=0.061756, l2_norm=0.828597\n",
      "I0000 00:00:1688801483.398806 2819563 primal_dual_hybrid_gradient.cc:1128] Gaps between variable upper and lower bounds: #finite=0 of 28, largest=0.000000, smallest=0.000000, avg=nan\n",
      " iter#   time |  rel_p_res  rel_d_res    rel_gap |   prim_obj   dual_obj\n",
      "     0    0.0 |     0.9991     0.4104      0.000 |      0.000      0.000\n",
      "    64    0.0 |    0.01200  0.0001733  -0.003788 |     -471.9     -468.3\n",
      "   128    0.0 |  0.0009950   0.001081   0.002161 |     -465.2     -467.2\n",
      "   192    0.0 |  2.246e-05  9.407e-05 -8.456e-05 |     -464.8     -464.7\n",
      "   256    0.0 |  4.390e-06  1.397e-06  1.992e-06 |     -464.8     -464.8\n",
      "   320    0.0 |  4.452e-08  4.303e-07  4.094e-07 |     -464.8     -464.8\n",
      "   384    0.0 |  2.159e-08  7.338e-09 -6.244e-09 |     -464.8     -464.8\n",
      "   448    0.0 |  7.187e-11  3.317e-09 -3.647e-09 |     -464.8     -464.8\n",
      "I0000 00:00:1688801483.400858 2819563 primal_dual_hybrid_gradient.cc:1512] Termination reason: TERMINATION_REASON_OPTIMAL\n",
      "I0000 00:00:1688801483.401533 2819563 primal_dual_hybrid_gradient.cc:1514] Solution point type: POINT_TYPE_CURRENT_ITERATE\n",
      "I0000 00:00:1688801483.401545 2819563 primal_dual_hybrid_gradient.cc:1516] Final solution stats:\n",
      "I0000 00:00:1688801483.401548 2819563 primal_dual_hybrid_gradient.cc:1517]  iter# kkt_pass   time | rel_prim_res rel_dual_res      rel_gap |   prim_resid   dual_resid      obj_gap |     prim_obj     dual_obj |  prim_var_l2  dual_var_l2\n",
      "I0000 00:00:1688801483.401556 2819563 primal_dual_hybrid_gradient.cc:1518]    448    448.0    0.0 |  5.61138e-10  4.79804e-09  6.67113e-09 |  5.93518e-07  9.71578e-09  6.20753e-06 |     -464.753     -464.753 |      1077.67      1.06014\n"
     ]
    }
   ],
   "source": [
    "%run -i bench-lp/pdlp_solve.py --file ../abip-lp/datasets/netlib/unpacked/pre_afiro.mps"
   ]
  },
  {
   "cell_type": "code",
   "execution_count": 12,
   "id": "40ce86c8-a569-458f-ae30-4357567c4e02",
   "metadata": {},
   "outputs": [
    {
     "data": {
      "text/plain": [
       "'/home/chuwen/workspace/abip-lp'"
      ]
     },
     "execution_count": 12,
     "metadata": {},
     "output_type": "execute_result"
    }
   ],
   "source": [
    "pwd"
   ]
  }
 ],
 "metadata": {
  "kernelspec": {
   "display_name": "Python 3 (ipykernel)",
   "language": "python",
   "name": "python3"
  },
  "language_info": {
   "codemirror_mode": {
    "name": "ipython",
    "version": 3
   },
   "file_extension": ".py",
   "mimetype": "text/x-python",
   "name": "python",
   "nbconvert_exporter": "python",
   "pygments_lexer": "ipython3",
   "version": "3.9.12"
  }
 },
 "nbformat": 4,
 "nbformat_minor": 5
}
